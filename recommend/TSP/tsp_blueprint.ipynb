{
 "cells": [
  {
   "cell_type": "code",
   "execution_count": 3,
   "metadata": {},
   "outputs": [],
   "source": [
    "import pandas as pd \n",
    "import json \n",
    "import requests\n",
    "import os \n",
    "from dotenv import load_dotenv\n",
    "\n",
    "def print_json(data:json):\n",
    "    \"\"\"json 형태의 데이터를 출력하는 함수입니다.\n",
    "\n",
    "    Args:\n",
    "        data (json): json 형태의 데이터\n",
    "    \"\"\"\n",
    "    pretty_json = json.dumps(data, indent=4)\n",
    "    print(pretty_json)"
   ]
  },
  {
   "cell_type": "code",
   "execution_count": null,
   "metadata": {},
   "outputs": [],
   "source": []
  }
 ],
 "metadata": {
  "kernelspec": {
   "display_name": "venv",
   "language": "python",
   "name": "python3"
  },
  "language_info": {
   "codemirror_mode": {
    "name": "ipython",
    "version": 3
   },
   "file_extension": ".py",
   "mimetype": "text/x-python",
   "name": "python",
   "nbconvert_exporter": "python",
   "pygments_lexer": "ipython3",
   "version": "3.9.13"
  }
 },
 "nbformat": 4,
 "nbformat_minor": 2
}
