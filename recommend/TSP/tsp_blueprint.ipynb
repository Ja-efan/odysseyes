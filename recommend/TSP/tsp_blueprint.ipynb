{
 "cells": [
  {
   "cell_type": "code",
   "execution_count": 1,
   "metadata": {},
   "outputs": [],
   "source": [
    "import pandas as pd \n",
    "import json \n",
    "import requests\n",
    "import os \n",
    "from dotenv import load_dotenv\n",
    "import sys \n",
    "\n",
    "def print_json(data:json):\n",
    "    \"\"\"json 형태의 데이터를 출력하는 함수입니다.\n",
    "\n",
    "    Args:\n",
    "        data (json): json 형태의 데이터\n",
    "    \"\"\"\n",
    "    pretty_json = json.dumps(data, indent=4)\n",
    "    print(pretty_json)"
   ]
  },
  {
   "cell_type": "code",
   "execution_count": 2,
   "metadata": {},
   "outputs": [],
   "source": [
    "data = pd.read_csv(\"../data//추천장소통합리스트.csv\")"
   ]
  },
  {
   "cell_type": "code",
   "execution_count": null,
   "metadata": {},
   "outputs": [],
   "source": [
    "# odysseyes/recommend/func/tmap_route_optimizer.py\n",
    "\n",
    "class TMAPClient:\n",
    "    \"\"\"TMAP API 호출을 담당하는 클래스\"\"\"\n",
    "    def __init__(self, api_key: str):\n",
    "        self.api_key = api_key\n",
    "\n",
    "    def get_poi(self, keyword: str, region: str = None) -> dict:\n",
    "        \"\"\"키워드를 이용해 POI 정보를 가져옵니다.\"\"\"\n",
    "        search_keyword = f\"{region} {keyword}\" if region else keyword\n",
    "        url = f'https://apis.openapi.sk.com/tmap/pois?version=1&appKey={self.api_key}&searchKeyword={search_keyword}'\n",
    "        response = requests.get(url, verify=False)\n",
    "\n",
    "        if response.status_code != 200:\n",
    "            print(f\"Error: Received status code {response.status_code} from TMAP API for POI.\")\n",
    "            return {}\n",
    "\n",
    "        try:\n",
    "            data = response.json()\n",
    "        except json.JSONDecodeError:\n",
    "            print(\"Error: Response is not in JSON format.\")\n",
    "            print(\"Response content:\", response.text)  # 응답 내용을 출력해 문제를 확인합니다.\n",
    "            return {}\n",
    "\n",
    "        if data and 'searchPoiInfo' in data:\n",
    "            first_poi = data['searchPoiInfo']['pois']['poi'][0]\n",
    "            return {\n",
    "                'latitude': first_poi['noorLat'],\n",
    "                'longitude': first_poi['noorLon'],\n",
    "                'name': first_poi['name']\n",
    "            }\n",
    "        return {}"
   ]
  }
 ],
 "metadata": {
  "kernelspec": {
   "display_name": "venv",
   "language": "python",
   "name": "python3"
  },
  "language_info": {
   "codemirror_mode": {
    "name": "ipython",
    "version": 3
   },
   "file_extension": ".py",
   "mimetype": "text/x-python",
   "name": "python",
   "nbconvert_exporter": "python",
   "pygments_lexer": "ipython3",
   "version": "3.9.19"
  }
 },
 "nbformat": 4,
 "nbformat_minor": 2
}
