{
 "cells": [
  {
   "cell_type": "code",
   "execution_count": 1,
   "metadata": {},
   "outputs": [],
   "source": [
    "import pandas as pd \n",
    "import json \n",
    "import requests\n",
    "import os \n",
    "from dotenv import load_dotenv\n",
    "import sys \n",
    "\n",
    "def print_json(data:json):\n",
    "    \"\"\"json 형태의 데이터를 출력하는 함수입니다.\n",
    "\n",
    "    Args:\n",
    "        data (json): json 형태의 데이터\n",
    "    \"\"\"\n",
    "    pretty_json = json.dumps(data, indent=4)\n",
    "    print(pretty_json)"
   ]
  },
  {
   "cell_type": "code",
   "execution_count": 2,
   "metadata": {},
   "outputs": [],
   "source": [
    "data = pd.read_csv(\"../data//추천장소통합리스트.csv\")"
   ]
  },
  {
   "cell_type": "code",
   "execution_count": null,
   "metadata": {},
   "outputs": [],
   "source": [
    "import requests\n",
    "\n",
    "# 장소 데이터를 예시로 입력 (출발지, 경유지 등)\n",
    "places = [\n",
    "    {\"name\": \"출발지\", \"lat\": 37.5665, \"lon\": 126.9780},\n",
    "    {\"name\": \"장소1\", \"lat\": 37.5796, \"lon\": 126.9770},\n",
    "    # ... 추가 경유지\n",
    "]\n",
    "\n",
    "# 거리 및 경로 데이터를 가져오는 함수 (예시용 API 엔드포인트 사용)\n",
    "def fetch_route_data(origin, destination):\n",
    "    url = \"https://api.example.com/get_route\"\n",
    "    params = {\n",
    "        \"origin\": f\"{origin['lat']},{origin['lon']}\",\n",
    "        \"destination\": f\"{destination['lat']},{destination['lon']}\"\n",
    "    }\n",
    "    response = requests.get(url, params=params)\n",
    "    return response.json()  # {\"distance\": km, \"time\": min, \"cost\": won, \"polyline\": ...}\n",
    "\n",
    "# 모든 장소 간 1:1 거리, 시간, 비용 데이터를 수집\n",
    "routes_data = {}\n",
    "for i, origin in enumerate(places):\n",
    "    for j, destination in enumerate(places):\n",
    "        if i != j:\n",
    "            routes_data[(i, j)] = fetch_route_data(origin, destination)\n"
   ]
  },
  {
   "cell_type": "code",
   "execution_count": null,
   "metadata": {},
   "outputs": [],
   "source": [
    "from scipy.spatial.distance import cdist\n",
    "import numpy as np\n",
    "from itertools import permutations\n",
    "\n",
    "# 각 경로에 대한 점수를 계산하는 함수\n",
    "def calculate_route_score(route, routes_data, weight_distance=0.4, weight_time=0.4, weight_cost=0.2):\n",
    "    score = 0\n",
    "    for i in range(len(route) - 1):\n",
    "        route_info = routes_data[(route[i], route[i + 1])]\n",
    "        score += (\n",
    "            weight_distance * route_info[\"distance\"] +\n",
    "            weight_time * route_info[\"time\"] +\n",
    "            weight_cost * route_info[\"cost\"]\n",
    "        )\n",
    "    return score\n",
    "\n",
    "# 출발지에서 시작하여 모든 장소를 방문 후 출발지로 돌아오는 최적 경로 탐색\n",
    "def find_optimal_route(places, routes_data):\n",
    "    num_places = len(places)\n",
    "    all_routes = permutations(range(1, num_places))  # 출발지를 제외한 경유지들의 순열 생성\n",
    "    best_score = float('inf')\n",
    "    best_route = None\n",
    "    \n",
    "    for route in all_routes:\n",
    "        route = (0,) + route + (0,)  # 출발지(0)를 추가해 순환 경로 형성\n",
    "        score = calculate_route_score(route, routes_data)\n",
    "        if score < best_score:\n",
    "            best_score = score\n",
    "            best_route = route\n",
    "            \n",
    "    return best_route, best_score\n",
    "\n",
    "# 최적 경로 탐색 수행\n",
    "best_route, best_score = find_optimal_route(places, routes_data)\n",
    "print(\"최적 경로:\", best_route)\n",
    "print(\"최적 점수:\", best_score)\n"
   ]
  },
  {
   "cell_type": "code",
   "execution_count": null,
   "metadata": {},
   "outputs": [],
   "source": [
    "import folium\n",
    "\n",
    "# 지도 시각화 예시\n",
    "m = folium.Map(location=[places[0][\"lat\"], places[0][\"lon\"]], zoom_start=13)\n",
    "\n",
    "# 최적 경로 표시\n",
    "for i in range(len(best_route) - 1):\n",
    "    start = places[best_route[i]]\n",
    "    end = places[best_route[i + 1]]\n",
    "    polyline = routes_data[(best_route[i], best_route[i + 1])][\"polyline\"]\n",
    "    folium.PolyLine(locations=polyline, color=\"blue\", weight=2.5, opacity=1).add_to(m)\n",
    "\n",
    "# 시작 및 끝 지점 마커 추가\n",
    "folium.Marker([places[0][\"lat\"], places[0][\"lon\"]], popup=\"출발지\").add_to(m)\n",
    "\n",
    "# 지도 출력\n",
    "m\n"
   ]
  }
 ],
 "metadata": {
  "kernelspec": {
   "display_name": "venv",
   "language": "python",
   "name": "python3"
  },
  "language_info": {
   "codemirror_mode": {
    "name": "ipython",
    "version": 3
   },
   "file_extension": ".py",
   "mimetype": "text/x-python",
   "name": "python",
   "nbconvert_exporter": "python",
   "pygments_lexer": "ipython3",
   "version": "3.9.19"
  }
 },
 "nbformat": 4,
 "nbformat_minor": 2
}
